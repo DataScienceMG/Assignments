{
 "cells": [
  {
   "cell_type": "code",
   "execution_count": 4,
   "metadata": {},
   "outputs": [
    {
     "name": "stdout",
     "output_type": "stream",
     "text": [
      "Enter Numerator(x):1\n",
      "Enter Denominator(y):0\n",
      "Division by zero. Please check the denominator\n",
      "Enter Numerator(x):1\n",
      "Enter Denominator(y):e\n",
      "Entered input is a non-integer. Please enter integer value\n",
      "Enter Numerator(x):0.5\n",
      "Entered input is a non-integer. Please enter integer value\n",
      "Enter Numerator(x):4\n",
      "Enter Denominator(y):2\n",
      "Division Successful!!x divided by y is equal to 2.0\n"
     ]
    }
   ],
   "source": [
    "#Question1\n",
    "'''Write a function to compute 5/0 and use try/except to catch the exceptions. '''\n",
    "def func_exceptions():\n",
    "    while True:\n",
    "        try:\n",
    "            x=int(input(\"Enter Numerator(x):\"))\n",
    "            y=int(input(\"Enter Denominator(y):\"))\n",
    "            a=x/y\n",
    "        except ZeroDivisionError:\n",
    "            print(\"Division by zero. Please check the denominator\")\n",
    "            continue\n",
    "        except ValueError:\n",
    "            print(\"Entered input is a non-integer. Please enter integer value\")\n",
    "            continue\n",
    "        else:\n",
    "            print(\"Division Successful!!x divided by y is equal to {}\".format(a))\n",
    "            break\n",
    "            \n",
    "func_exceptions()"
   ]
  },
  {
   "cell_type": "code",
   "execution_count": 67,
   "metadata": {},
   "outputs": [
    {
     "name": "stdout",
     "output_type": "stream",
     "text": [
      "Americans play Baseball\n",
      "Americans play Cricket\n",
      "Americans watch Baseball\n",
      "Americans watch Cricket\n",
      "Indians play Baseball\n",
      "Indians play Cricket\n",
      "Indians watch Baseball\n",
      "Indians watch Cricket\n"
     ]
    }
   ],
   "source": [
    "#Question 2\n",
    "'''Implement a Python program to generate all sentences where subject is in [\"Americans\", \"Indians\"]\n",
    "and verb is in [\"Play\", \"watch\"] and the object is in [\"Baseball\",\"cricket\"].Hint: Subject,Verb and Object should be declared in the program as shown below. \n",
    "subjects=[\"Americans\",\"Indians\"] verbs=[\"play\",\"watch\"] objects=[\"Baseball\",\"Cricket\"] '''\n",
    "subjects=[\"Americans\",\"Indians\"]\n",
    "verbs=[\"play\",\"watch\"]\n",
    "objects=[\"Baseball\",\"Cricket\"]\n",
    "for i in subjects:\n",
    "    for j in verbs:\n",
    "        for k in objects:\n",
    "            m=i+\" \"+j+\" \"+k\n",
    "            print(m)"
   ]
  },
  {
   "cell_type": "code",
   "execution_count": 63,
   "metadata": {},
   "outputs": [
    {
     "name": "stdout",
     "output_type": "stream",
     "text": [
      "Enter numbers seperated by comma:1,2,3,4\n",
      "Input vector is:[1 2 3 4]\n",
      "Alexandre Theophile Vandermonde matrix of the input vector is\n",
      " [[ 1  1  1  1]\n",
      " [ 8  4  2  1]\n",
      " [27  9  3  1]\n",
      " [64 16  4  1]]\n"
     ]
    }
   ],
   "source": [
    "#Question 3\n",
    "'''Write a function so that the columns of the output matrix are powers of the input vector.  \n",
    "The order of the powers is determined by the increasing boolean argument. \n",
    "Specifically, when increasing is False, the i-th output column is the input vector raised element-wise\n",
    "to the power of N - i - 1.  \n",
    "HINT: Such a matrix with a geometric progression in each row is named for Alexandre Theophile Vandermonde.  \n",
    " '''\n",
    "import numpy as np\n",
    "x=input(\"Enter numbers seperated by comma:\")\n",
    "y=list(x.split(\",\"))\n",
    "l=[]\n",
    "for i in y:\n",
    "    l.append(int(i))\n",
    "arr=np.asarray(l)\n",
    "p=[]\n",
    "for j in l:\n",
    "    n=[]\n",
    "    for power in range(0,len(l)):\n",
    "        n.append(j**power)\n",
    "    n.sort(reverse=True)\n",
    "    p.append(n)\n",
    "    \n",
    "p=np.array(p)\n",
    "\n",
    "print(\"Input vector is:{}\".format(arr))\n",
    "print(\"Alexandre Theophile Vandermonde matrix of the input vector is\\n {}\".format(p))\n"
   ]
  }
 ],
 "metadata": {
  "kernelspec": {
   "display_name": "Python 3",
   "language": "python",
   "name": "python3"
  },
  "language_info": {
   "codemirror_mode": {
    "name": "ipython",
    "version": 3
   },
   "file_extension": ".py",
   "mimetype": "text/x-python",
   "name": "python",
   "nbconvert_exporter": "python",
   "pygments_lexer": "ipython3",
   "version": "3.7.4"
  }
 },
 "nbformat": 4,
 "nbformat_minor": 2
}
