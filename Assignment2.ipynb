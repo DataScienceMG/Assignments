{
 "cells": [
  {
   "cell_type": "markdown",
   "metadata": {},
   "source": [
    "# Task1"
   ]
  },
  {
   "cell_type": "code",
   "execution_count": 54,
   "metadata": {},
   "outputs": [
    {
     "name": "stdout",
     "output_type": "stream",
     "text": [
      "5 15\n"
     ]
    }
   ],
   "source": [
    "#Question 1.1\n",
    "''' 1.1\n",
    "Write a Python Program to implement your own myreduce() function which works exactly like\n",
    "Python's built-in function reduce() '''\n",
    "def myreduce(func,mylist):\n",
    "    result=mylist[0]\n",
    "    for i in mylist[1:]:\n",
    "        result=func(result,i)\n",
    "    return result\n",
    "\n",
    "# Testing the above myreduce() function with summ and maxx\n",
    "def maxx(a,b):\n",
    "    if a>b:\n",
    "        return a\n",
    "    else:\n",
    "        return b\n",
    "def summ(a,b):\n",
    "    return a+b\n",
    "l=[1,2,3,4,5]\n",
    "m=myreduce(maxx,l)\n",
    "n=myreduce(summ,l)\n",
    "print(m,n)"
   ]
  },
  {
   "cell_type": "code",
   "execution_count": 55,
   "metadata": {},
   "outputs": [
    {
     "name": "stdout",
     "output_type": "stream",
     "text": [
      "[2, 4]\n"
     ]
    }
   ],
   "source": [
    "#Question 1.2\n",
    "'''1.2\n",
    "Write a Python program to implement your own myfilter() function which works exactly like\n",
    "Python's built-in function filter()'''\n",
    "def myfilter(func,mylist):\n",
    "    result=[]\n",
    "    for i in mylist:\n",
    "        if func(i):\n",
    "            result.append(i)\n",
    "    return result\n",
    "\n",
    "# Testing the above myfilter() function with iseven\n",
    "def iseven(x):\n",
    "    if x%2==0:\n",
    "        return x\n",
    "l=[1,2,3,4,5]\n",
    "k=myfilter(iseven,l)\n",
    "print(k)"
   ]
  },
  {
   "cell_type": "code",
   "execution_count": 136,
   "metadata": {},
   "outputs": [
    {
     "name": "stdout",
     "output_type": "stream",
     "text": [
      "ACADGILD ----> ['A', 'C', 'A', 'D', 'G', 'I', 'L', 'D']\n",
      "['x', 'y', 'z'] ----> ['x', 'xx', 'xxx', 'xxxx', 'y', 'yy', 'yyy', 'yyyy', 'z', 'zz', 'zzz', 'zzzz']\n",
      "['x', 'y', 'z'] ----> ['x', 'y', 'z', 'xx', 'yy', 'zz', 'xxx', 'yyy', 'zzz', 'xxxx', 'yyyy', 'zzzz']\n"
     ]
    }
   ],
   "source": [
    "#Question 2 \n",
    "'''Implement List comprehensions to produce the following lists.\n",
    "Write List comprehensions to produce the following Lists\n",
    "['A', 'C', 'A', 'D', 'G', 'I', ’L’, ‘ D’]\n",
    "['x', 'xx', 'xxx', 'xxxx', 'y', 'yy', 'yyy', 'yyyy', 'z', 'zz', 'zzz', 'zzzz']\n",
    "['x', 'y', 'z', 'xx', 'yy', 'zz', 'xx', 'yy', 'zz', 'xxxx', 'yyyy', 'zzzz']'''\n",
    "word=\"ACADGILD\"\n",
    "New_word=[i for i in word]\n",
    "print(word + \" ----> \"+ str(New_word))\n",
    "l=['x','y','z']\n",
    "New_l=[n*m for n in l for m in range(1,5)]\n",
    "print(str(l)+\" ----> \"+str(New_l))\n",
    "New_l1=[n*m for n in range(1,5) for m in l]\n",
    "print(str(l) + \" ----> \"+str(New_l1))"
   ]
  },
  {
   "cell_type": "code",
   "execution_count": 154,
   "metadata": {},
   "outputs": [
    {
     "name": "stdout",
     "output_type": "stream",
     "text": [
      "Enter the list of word seperated by comma:King,Queen,Police,Prime Minister,Minister,President\n",
      "Logest word in the given list is 'Prime Minister'\n"
     ]
    }
   ],
   "source": [
    "#Question 3\n",
    "'''Implement a function longestWord() that takes a list of words and returns the longest one.'''\n",
    "def longestWord(x,y):\n",
    "    if len(x)>len(y):\n",
    "        return x\n",
    "    else:\n",
    "        return y\n",
    "words=input(\"Enter the list of word seperated by comma:\")\n",
    "list_words=words.split(\",\")\n",
    "k=myreduce(longestWord,list_words)\n",
    "print(\"Logest word in the given list is '\"'%s'\"'\"%k)"
   ]
  },
  {
   "cell_type": "markdown",
   "metadata": {},
   "source": [
    "# Task 2"
   ]
  },
  {
   "cell_type": "code",
   "execution_count": 53,
   "metadata": {},
   "outputs": [
    {
     "name": "stdout",
     "output_type": "stream",
     "text": [
      "Area of triangle with side 5,6,7 is 14.696938\n"
     ]
    }
   ],
   "source": [
    "#Question 1.1\n",
    "'''Write a Python Program(with class concepts) to find the area of the triangle using the below\n",
    "formula.\n",
    "area = (s*(s-a)*(s-b)*(s-c)) ** 0.5\n",
    "Function to take the length of the sides of triangle from user should be defined in the parent\n",
    "class and function to calculate the area should be defined in subclass.'''\n",
    "class Area:\n",
    "    def __init__(self,a,b,c):\n",
    "        self.firstside=a\n",
    "        self.seconfside=b\n",
    "        self.thridside=c\n",
    "    def Calc_Area(self):\n",
    "        s=(self.firstside+self.seconfside+self.thridside)/2\n",
    "        return (s*(s-self.firstside)*(s-self.seconfside)*(s-self.thridside)) ** 0.5\n",
    "    def __str__(self):\n",
    "        return \"Area of triangle with side %d,%d,%d is %f\" %(self.firstside,self.seconfside,self.thridside,self.Calc_Area())\n",
    "\n",
    "k=Area(5,6,7)\n",
    "k.Calc_Area()\n",
    "print(k)"
   ]
  },
  {
   "cell_type": "code",
   "execution_count": 161,
   "metadata": {},
   "outputs": [
    {
     "name": "stdout",
     "output_type": "stream",
     "text": [
      "Enter the list of word seperated by comma:King,Queen,Police,Prime Minister,Minister,President\n",
      "Enter a value:8\n"
     ]
    },
    {
     "data": {
      "text/plain": [
       "['Prime Minister', 'President']"
      ]
     },
     "execution_count": 161,
     "metadata": {},
     "output_type": "execute_result"
    }
   ],
   "source": [
    "#Question 1.2\n",
    "'''1.2\n",
    "Write a function filter_long_words() that takes a list of words and an integer n and returns the list\n",
    "of words that are longer than n.'''\n",
    "def filter_long_words(x,y):\n",
    "    result=[]\n",
    "    for i in x:\n",
    "        if len(i)>y:\n",
    "            result.append(i)\n",
    "    return result\n",
    "words=input(\"Enter the list of word seperated by comma:\")\n",
    "interger=int(input(\"Enter a value:\"))\n",
    "list_words=words.split(\",\")\n",
    "filter_long_words(list_words,interger)\n"
   ]
  },
  {
   "cell_type": "code",
   "execution_count": 3,
   "metadata": {},
   "outputs": [
    {
     "name": "stdout",
     "output_type": "stream",
     "text": [
      "Enter the list of word seperated by comma:ab,cde,erty\n",
      "['ab', 'cde', 'erty'] ----> [2, 3, 4]\n"
     ]
    }
   ],
   "source": [
    "#Question 2.1\n",
    "'''Write a Python program using function concept that maps list of words into a list of integers\n",
    "representing the lengths of the corresponding words .'''\n",
    "def len_word(x):\n",
    "    return len(x)\n",
    "words=input(\"Enter the list of word seperated by comma:\")\n",
    "list_words=words.split(\",\")\n",
    "mapping=list(map(len_word,list_words))\n",
    "print(str(list_words)+\" ----> \"+str(mapping))"
   ]
  },
  {
   "cell_type": "code",
   "execution_count": 37,
   "metadata": {},
   "outputs": [
    {
     "name": "stdout",
     "output_type": "stream",
     "text": [
      "Enter a character:r\n",
      "False\n"
     ]
    }
   ],
   "source": [
    "#Question 2.2\n",
    "'''Write a Python function which takes a character (i.e. a string of length 1) and returns True if it is\n",
    "a vowel, False otherwise.'''\n",
    "def is_vowel(x):\n",
    "    vowel=['a','e','i','o','u']\n",
    "    if x in vowel:\n",
    "        print(\"True\")\n",
    "    else:\n",
    "        print(\"False\")\n",
    "char=input(\"Enter a character:\")\n",
    "l=list(char)\n",
    "\n",
    "if len(char)==1:\n",
    "    is_vowel(char)\n",
    "else:\n",
    "    print(\"You have entered more than one character. Please enter only one character\")  \n"
   ]
  }
 ],
 "metadata": {
  "kernelspec": {
   "display_name": "Python 3",
   "language": "python",
   "name": "python3"
  },
  "language_info": {
   "codemirror_mode": {
    "name": "ipython",
    "version": 3
   },
   "file_extension": ".py",
   "mimetype": "text/x-python",
   "name": "python",
   "nbconvert_exporter": "python",
   "pygments_lexer": "ipython3",
   "version": "3.6.5"
  }
 },
 "nbformat": 4,
 "nbformat_minor": 2
}
